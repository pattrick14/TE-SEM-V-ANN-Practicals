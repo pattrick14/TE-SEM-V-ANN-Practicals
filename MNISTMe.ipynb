{
 "cells": [
  {
   "cell_type": "code",
   "execution_count": null,
   "id": "a2865d23-c9f3-41c1-b252-481246d9a191",
   "metadata": {},
   "outputs": [],
   "source": [
    "import tensorflow as tf\n",
    "from tensorflow.keras import datasets, layers, models\n",
    "import matplotlib.pyplot as plt\n",
    "import numpy as np"
   ]
  },
  {
   "cell_type": "code",
   "execution_count": null,
   "id": "e1b865aa-a031-4785-b5d8-d9da5047b94b",
   "metadata": {},
   "outputs": [],
   "source": [
    "(x_train, y_train), (x_test, y_test) = datasets.mnist.load_data()"
   ]
  },
  {
   "cell_type": "code",
   "execution_count": null,
   "id": "0fbd6f82-c012-4636-85ff-ca7112f6ee0b",
   "metadata": {},
   "outputs": [],
   "source": [
    "print(x_train.shape)\n",
    "print(y_train.shape)"
   ]
  },
  {
   "cell_type": "code",
   "execution_count": null,
   "id": "d31757d0-aefe-4bc6-906d-74418e9a0637",
   "metadata": {},
   "outputs": [],
   "source": [
    "print(x_train.min())\n",
    "print(x_train.max())"
   ]
  },
  {
   "cell_type": "code",
   "execution_count": null,
   "id": "b41390be-8441-4d7a-a2fd-0b7a5a79972f",
   "metadata": {},
   "outputs": [],
   "source": [
    "plt.imshow(x_train[0], cmap='gray')"
   ]
  },
  {
   "cell_type": "code",
   "execution_count": null,
   "id": "d9725d0d-fffb-4225-9e6e-d231092ccd91",
   "metadata": {},
   "outputs": [],
   "source": [
    "y_train[0]\n",
    "x_test.shape\n",
    "y_test.shape\n",
    "x_train.shape"
   ]
  },
  {
   "cell_type": "code",
   "execution_count": null,
   "id": "a5959061-a6b4-49f2-b657-64a5ebee98dd",
   "metadata": {},
   "outputs": [],
   "source": [
    "x_train = x_train / 255\n",
    "x_test = x_test / 255"
   ]
  },
  {
   "cell_type": "code",
   "execution_count": null,
   "id": "e0af950d-0961-461b-808b-8913c016e2b8",
   "metadata": {},
   "outputs": [],
   "source": [
    "model = models.Sequential([\n",
    "layers.Flatten(input_shape=(28, 28)),\n",
    "layers.Dense(128, activation='relu'),\n",
    "layers.Dense(10,activation='softmax')\n",
    "])"
   ]
  },
  {
   "cell_type": "code",
   "execution_count": null,
   "id": "b6710411-b062-4d16-865b-69c1941f692d",
   "metadata": {},
   "outputs": [],
   "source": [
    "model.summary()"
   ]
  },
  {
   "cell_type": "code",
   "execution_count": null,
   "id": "98a7d750-6074-48f4-be38-d35b9ed95d03",
   "metadata": {},
   "outputs": [],
   "source": [
    "model.compile(optimizer='adam', \n",
    "              loss=tf.keras.losses.SparseCategoricalCrossentropy(from_logits=True), \n",
    "              metrics=['accuracy'])"
   ]
  },
  {
   "cell_type": "code",
   "execution_count": null,
   "id": "e3c0d369-20f0-4ff4-9bb0-e69c071b744a",
   "metadata": {},
   "outputs": [],
   "source": [
    "model.fit(x_train,y_train,epochs=5)"
   ]
  },
  {
   "cell_type": "code",
   "execution_count": null,
   "id": "e19badc0-f394-4be9-88ab-1802ef4723a7",
   "metadata": {},
   "outputs": [],
   "source": [
    "test_loss, test_accuracy = model.evaluate(x_test, y_test)\n",
    "test_accuracy"
   ]
  },
  {
   "cell_type": "code",
   "execution_count": null,
   "id": "f09c00a9-5d95-47c9-b478-e9ffa03f8314",
   "metadata": {},
   "outputs": [],
   "source": [
    "predictions = model.predict(x_test)\n",
    "predictions[0]"
   ]
  },
  {
   "cell_type": "code",
   "execution_count": null,
   "id": "139ffaa1-53e8-40fe-b4e5-8fbb9d848287",
   "metadata": {},
   "outputs": [],
   "source": [
    "predictions=np.argmax(predictions, axis=1).astype(np.int32)\n",
    "predictions"
   ]
  },
  {
   "cell_type": "code",
   "execution_count": null,
   "id": "112dce67-4b0e-4cb2-a310-eaeca5db4071",
   "metadata": {
    "scrolled": true
   },
   "outputs": [],
   "source": [
    "for _ in range(10):\n",
    "    idx=np.random.randint(0, len(x_test))\n",
    "    predicted=predictions[idx]\n",
    "    plt.xlabel(f\"Predicted:{predicted}\")\n",
    "    plt.imshow(x_test[idx], cmap='gray')"
   ]
  },
  {
   "cell_type": "code",
   "execution_count": null,
   "id": "c8bb3c9f-0819-4fde-9fd6-217b60284fe5",
   "metadata": {},
   "outputs": [],
   "source": []
  }
 ],
 "metadata": {
  "kernelspec": {
   "display_name": "Python 3 (ipykernel)",
   "language": "python",
   "name": "python3"
  },
  "language_info": {
   "codemirror_mode": {
    "name": "ipython",
    "version": 3
   },
   "file_extension": ".py",
   "mimetype": "text/x-python",
   "name": "python",
   "nbconvert_exporter": "python",
   "pygments_lexer": "ipython3",
   "version": "3.12.1"
  }
 },
 "nbformat": 4,
 "nbformat_minor": 5
}
