{
 "cells": [
  {
   "cell_type": "raw",
   "id": "5266fb1e-913d-4844-b98c-6d6a7f3b847c",
   "metadata": {},
   "source": [
    "Peceptron Neural Netowrk, Even/Odd, 0-9"
   ]
  },
  {
   "cell_type": "code",
   "execution_count": 1,
   "id": "4f750f7f-322b-402d-8963-d24db8cdd7ba",
   "metadata": {},
   "outputs": [],
   "source": [
    "import numpy as np"
   ]
  },
  {
   "cell_type": "code",
   "execution_count": 2,
   "id": "30a46b05-1391-45de-a44a-277d956c0fac",
   "metadata": {},
   "outputs": [],
   "source": [
    "def init_perceptron(input_size):\n",
    "    weights = np.zeros(input_size)\n",
    "    bias = 0\n",
    "    return weights, bias\n",
    "\n",
    "def predict(inputs, weights, bias):\n",
    "    summation = np.dot(inputs, weights)+bias\n",
    "    return 1 if summation>0 else 0\n",
    "\n",
    "def ascii_to_bin(asciiVal):\n",
    "    binVal = format(asciiVal, '08b')\n",
    "    return [int(bit) for bit in binVal]"
   ]
  },
  {
   "cell_type": "code",
   "execution_count": 3,
   "id": "770a2ed4-5eee-4fe5-beb9-264058e64977",
   "metadata": {},
   "outputs": [],
   "source": [
    "def trainPerceptron(weights, bias, training_inputs, labels, epochs=100, learning_rate = 0.2):\n",
    "    for epoch in range(epochs):\n",
    "        for inputs, label in zip(training_inputs, labels):\n",
    "            predictions = predict(inputs, weights, bias)\n",
    "            inputs=np.array(inputs)\n",
    "            weights += learning_rate*(label-predictions)*inputs\n",
    "            bias += learning_rate*(label-predictions)\n",
    "\n",
    "    return weights, bias"
   ]
  },
  {
   "cell_type": "code",
   "execution_count": 4,
   "id": "d1d90d6a-8719-4c64-8b27-e27e452b000d",
   "metadata": {},
   "outputs": [],
   "source": [
    "labels = [1,0,1,0,1,0,1,0,1,0]\n",
    "\n",
    "training_data = [ascii_to_bin(i) for i in range(10)]"
   ]
  },
  {
   "cell_type": "code",
   "execution_count": 5,
   "id": "86eb636e-9d50-4ac0-89b1-e9698dac64c3",
   "metadata": {},
   "outputs": [
    {
     "name": "stdin",
     "output_type": "stream",
     "text": [
      "Enter a number between 0-9:-  8\n"
     ]
    }
   ],
   "source": [
    "weights, bias = init_perceptron(input_size=8)\n",
    "weights, bias = trainPerceptron(weights, bias, training_data, labels, epochs=100,\n",
    "learning_rate=0.1)\n",
    "test_number = int(input(\"Enter a number between 0-9:- \")) "
   ]
  },
  {
   "cell_type": "code",
   "execution_count": 6,
   "id": "4863489d-0118-4614-b4cb-10a6f2e0f1ff",
   "metadata": {},
   "outputs": [
    {
     "name": "stdout",
     "output_type": "stream",
     "text": [
      "Even Number.\n"
     ]
    }
   ],
   "source": [
    "test_input = ascii_to_bin(test_number)\n",
    "prediction = predict(test_input, weights, bias)\n",
    "if prediction==1:\n",
    "    print(\"Even Number.\")\n",
    "else:\n",
    "    print(\"Odd Number\")"
   ]
  },
  {
   "cell_type": "code",
   "execution_count": null,
   "id": "8a1349b3-5cb9-4843-bdd3-31cf85871a36",
   "metadata": {},
   "outputs": [],
   "source": []
  },
  {
   "cell_type": "code",
   "execution_count": null,
   "id": "8bc138f2-7c6c-4ee7-ac58-07117d141fb7",
   "metadata": {},
   "outputs": [],
   "source": []
  }
 ],
 "metadata": {
  "kernelspec": {
   "display_name": "Python 3 (ipykernel)",
   "language": "python",
   "name": "python3"
  },
  "language_info": {
   "codemirror_mode": {
    "name": "ipython",
    "version": 3
   },
   "file_extension": ".py",
   "mimetype": "text/x-python",
   "name": "python",
   "nbconvert_exporter": "python",
   "pygments_lexer": "ipython3",
   "version": "3.12.1"
  }
 },
 "nbformat": 4,
 "nbformat_minor": 5
}
