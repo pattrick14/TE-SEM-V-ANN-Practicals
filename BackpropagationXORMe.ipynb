{
 "cells": [
  {
   "cell_type": "code",
   "execution_count": null,
   "id": "e3e93aaf-6532-40a4-a43c-3313757cca3f",
   "metadata": {},
   "outputs": [],
   "source": [
    "import numpy as np"
   ]
  },
  {
   "cell_type": "code",
   "execution_count": null,
   "id": "61454def-38e0-4664-a4cc-f387db2fbff5",
   "metadata": {},
   "outputs": [],
   "source": [
    "def sigmoid(x):\n",
    "    return 1/(1+ np.exp(-x))"
   ]
  },
  {
   "cell_type": "code",
   "execution_count": null,
   "id": "10bb193e-0063-4186-b65b-b73e3d2a8019",
   "metadata": {},
   "outputs": [],
   "source": [
    "def sigmoid_derivative(x):\n",
    "    return x*(1-x)"
   ]
  },
  {
   "cell_type": "code",
   "execution_count": null,
   "id": "7b442dd7-60d6-45ae-ab59-b8ee8eaabd52",
   "metadata": {},
   "outputs": [],
   "source": [
    "inputs = np.array([[0, 0], [0, 1], [1, 0], [1, 1]])\n",
    "expected_output = np.array([[0], [1], [1], [0]])\n",
    "epochs = 1000\n",
    "lr = 0.1\n",
    "inputLayerNeurons, hiddenLayerNeurons, outputLayerNeurons = 2, 2, 1"
   ]
  },
  {
   "cell_type": "code",
   "execution_count": null,
   "id": "0794a8b8-7b56-4862-ba31-0c66cc3ff77e",
   "metadata": {},
   "outputs": [],
   "source": [
    "hidden_weights = np.random.uniform(size = (inputLayerNeurons, hiddenLayerNeurons))\n",
    "hidden_bias = np.random.uniform(size = (1, hiddenLayerNeurons))\n",
    "output_weights = np.random.uniform(size=(hiddenLayerNeurons, outputLayerNeurons))\n",
    "output_bias = np.random.uniform(size= (1, outputLayerNeurons))"
   ]
  },
  {
   "cell_type": "code",
   "execution_count": null,
   "id": "89b44afb-5689-40df-b788-ce57cc8d3343",
   "metadata": {},
   "outputs": [],
   "source": [
    "print(\"Hidden Weights: \", *hidden_weights)\n",
    "print(\"Hiddden Bias: \", *hidden_bias)\n",
    "print(\"Output Weights: \", *output_weights)\n",
    "print(\"Output Bias: \", *output_bias)"
   ]
  },
  {
   "cell_type": "code",
   "execution_count": null,
   "id": "b0201aa8-a805-4799-a1a8-693c756f39ef",
   "metadata": {},
   "outputs": [],
   "source": [
    "for _ in range(epochs):\n",
    "    HlayerActivation = np.dot(inputs, hidden_weights)\n",
    "    HlayerActivation += hidden_bias\n",
    "    HlayerOutput = sigmoid(HlayerActivation)\n",
    "\n",
    "    OlayerActivation = np.dot(HlayerOutput, output_weights)\n",
    "    OlayerActivation += output_bias\n",
    "    predicted_output = sigmoid(OlayerActivation)\n",
    "\n",
    "    #BackPropagation\n",
    "    error = expected_output - predicted_output\n",
    "    d_predictedOutput = error * sigmoid_derivative(predicted_output)\n",
    "\n",
    "    error_hiddenLayer = d_predictedOutput.dot(output_weights.T)\n",
    "    d_hiddenLayer = error_hiddenLayer*sigmoid_derivative(HlayerOutput)\n",
    "\n",
    "    hidden_weights += inputs.T.dot(d_hiddenLayer)*lr\n",
    "    hidden_bias += np.sum(d_hiddenLayer, axis=0, keepdims=True)*lr\n",
    "\n",
    "    output_weights += HlayerOutput.T.dot(d_predictedOutput)*lr\n",
    "    output_bias += np.sum(d_predictedOutput, axis=0, keepdims=True)*lr\n",
    "    "
   ]
  },
  {
   "cell_type": "code",
   "execution_count": null,
   "id": "39b8c083-3d8a-4c14-a195-fe898da5193f",
   "metadata": {},
   "outputs": [],
   "source": [
    "print(\"Final Hidden Weights: \", *hidden_weights)\n",
    "print(\"Final Hidden Bias: \", *hidden_bias)\n",
    "print(\"Final Output Weights: \", *output_weights)\n",
    "print(\"Final Output Bias: \", *output_bias)\n",
    "\n",
    "print(\"Output from neural network: \", *predicted_output)"
   ]
  },
  {
   "cell_type": "code",
   "execution_count": null,
   "id": "f936f4e6-fbe7-42a8-bbe0-5bb1c1597394",
   "metadata": {},
   "outputs": [],
   "source": []
  }
 ],
 "metadata": {
  "kernelspec": {
   "display_name": "Python 3 (ipykernel)",
   "language": "python",
   "name": "python3"
  },
  "language_info": {
   "codemirror_mode": {
    "name": "ipython",
    "version": 3
   },
   "file_extension": ".py",
   "mimetype": "text/x-python",
   "name": "python",
   "nbconvert_exporter": "python",
   "pygments_lexer": "ipython3",
   "version": "3.12.1"
  }
 },
 "nbformat": 4,
 "nbformat_minor": 5
}
