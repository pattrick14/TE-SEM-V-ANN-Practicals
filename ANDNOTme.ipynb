{
 "cells": [
  {
   "cell_type": "code",
   "execution_count": 1,
   "id": "4041c1b4-69d3-4342-91f0-606f6a2b3942",
   "metadata": {},
   "outputs": [],
   "source": [
    "import numpy as np"
   ]
  },
  {
   "cell_type": "code",
   "execution_count": 2,
   "id": "41329f49-487d-4ce1-83cd-77a4f21068bc",
   "metadata": {},
   "outputs": [],
   "source": [
    "def andnot(x1, x2):\n",
    "    t = [1 if x1[i] == 1 and not x2[i] == 1 else 0 for i in range(len(x1))]\n",
    "    return t"
   ]
  },
  {
   "cell_type": "code",
   "execution_count": 3,
   "id": "40a6b5ce-971d-455d-91c2-f40b09073e77",
   "metadata": {},
   "outputs": [],
   "source": [
    "def mp(n, w1, w2, x1):\n",
    "    w = p = 0\n",
    "    if (w1 < 0 or w2 < 0):\n",
    "        p = 1\n",
    "    if (w1 >= 0 or w2 >= 0):\n",
    "        w = 1\n",
    "\n",
    "    theta = n * w - p  # Threshold calculation\n",
    "    yin = [0] * 4\n",
    "    ytarget = [0] * 4\n",
    "\n",
    "    for i in range(len(x1)):\n",
    "        yin[i] = (w1 * x1[i] + w2 * x2[i])  # Weighted sum calculation\n",
    "    \n",
    "    for i in range(len(x1)):\n",
    "        if yin[i] >= theta:\n",
    "            ytarget[i] = 1\n",
    "        else:\n",
    "            ytarget[i] = 0\n",
    "    \n",
    "    return yin, ytarget, theta"
   ]
  },
  {
   "cell_type": "code",
   "execution_count": 4,
   "id": "ec370477-e8d7-4b68-ac96-c2434c0bb994",
   "metadata": {},
   "outputs": [
    {
     "name": "stdin",
     "output_type": "stream",
     "text": [
      "Enter the value of w1:  1\n",
      "Enter the value of w2:  -0\n"
     ]
    }
   ],
   "source": [
    "x1 = [0, 0, 1, 1]\n",
    "x2 = [0, 1, 0, 1]\n",
    "n = 2\n",
    "w1 = int(input(\"Enter the value of w1: \"))\n",
    "w2 = int(input(\"Enter the value of w2: \"))"
   ]
  },
  {
   "cell_type": "code",
   "execution_count": 5,
   "id": "fd2f4214-edf8-4bba-a0c8-f228eb4e29de",
   "metadata": {},
   "outputs": [
    {
     "name": "stdout",
     "output_type": "stream",
     "text": [
      "threshold = 2\n",
      "\n",
      "ANDNOT function using McCulloch-Pitts neural network\n",
      "\n",
      "x1 \t x2 \t t \t yin \t y\n",
      "0 \t 0 \t 0 \t 0 \t 0\n",
      "0 \t 1 \t 0 \t 0 \t 0\n",
      "1 \t 0 \t 1 \t 1 \t 0\n",
      "1 \t 1 \t 0 \t 1 \t 0\n"
     ]
    }
   ],
   "source": [
    "t = andnot(x1, x2)\n",
    "yin, ytarget, theta = mp(n, w1, w2, x1)\n",
    "\n",
    "print(f\"threshold = {theta}\")\n",
    "print(\"\\nANDNOT function using McCulloch-Pitts neural network\\n\")\n",
    "print(\"x1 \\t x2 \\t t \\t yin \\t y\")\n",
    "for i in range(len(x1)):\n",
    "    print(f\"{x1[i]} \\t {x2[i]} \\t {t[i]} \\t {yin[i]} \\t {ytarget[i]}\")"
   ]
  }
 ],
 "metadata": {
  "kernelspec": {
   "display_name": "Python 3 (ipykernel)",
   "language": "python",
   "name": "python3"
  },
  "language_info": {
   "codemirror_mode": {
    "name": "ipython",
    "version": 3
   },
   "file_extension": ".py",
   "mimetype": "text/x-python",
   "name": "python",
   "nbconvert_exporter": "python",
   "pygments_lexer": "ipython3",
   "version": "3.12.1"
  }
 },
 "nbformat": 4,
 "nbformat_minor": 5
}
