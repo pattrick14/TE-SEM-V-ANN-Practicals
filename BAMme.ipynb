{
 "cells": [
  {
   "cell_type": "code",
   "execution_count": 1,
   "id": "249c8099-fc06-41cb-9af9-be167bdec302",
   "metadata": {},
   "outputs": [],
   "source": [
    "import numpy as np"
   ]
  },
  {
   "cell_type": "code",
   "execution_count": 3,
   "id": "7af23f66-c6da-4a70-a136-46de65569e88",
   "metadata": {},
   "outputs": [
    {
     "name": "stdout",
     "output_type": "stream",
     "text": [
      "[[-2  2]\n",
      " [ 2 -2]\n",
      " [ 2 -2]\n",
      " [ 0  0]]\n"
     ]
    }
   ],
   "source": [
    "x = np.array([\n",
    "    [1, -1, -1, -1],\n",
    "    [-1, 1, 1, -1]\n",
    "])\n",
    "\n",
    "y = np.array([\n",
    "    [-1, 1],\n",
    "    [1, -1]\n",
    "])\n",
    "\n",
    "w=np.dot(x.T, y)\n",
    "print(w)"
   ]
  },
  {
   "cell_type": "code",
   "execution_count": 4,
   "id": "2825f7bc-1e74-4f89-967a-8e3c50215202",
   "metadata": {},
   "outputs": [],
   "source": [
    "def activation(x):\n",
    "    return np.where(x>0, 1, -1)"
   ]
  },
  {
   "cell_type": "code",
   "execution_count": 5,
   "id": "95f98973-b79e-4e6f-b3cc-15cdb31dc38e",
   "metadata": {},
   "outputs": [
    {
     "name": "stdout",
     "output_type": "stream",
     "text": [
      "Input(X): [ 1 -1 -1 -1] Output(Y): [ 1 -1]\n",
      "Input(X): [-1  1  1 -1] Output(Y): [ 1 -1]\n"
     ]
    }
   ],
   "source": [
    "## Forward Pass\n",
    "xTest = x[0]\n",
    "yTest = activate(np.dot(x_test, w))\n",
    "print(f\"Input(X): {xTest} Output(Y): {yTest}\")\n",
    "xTest = x[1]\n",
    "yTest = activate(np.dot(x_test, w))\n",
    "print(f\"Input(X): {xTest} Output(Y): {yTest}\")"
   ]
  },
  {
   "cell_type": "code",
   "execution_count": 8,
   "id": "46dc01cb-a79b-461b-9e0f-ebf4a6fed284",
   "metadata": {},
   "outputs": [
    {
     "name": "stdout",
     "output_type": "stream",
     "text": [
      "[ 1 -1 -1 -1] [-1  1]\n",
      "Input(X): [-1  1  1 -1]  Output(Y): [ 1 -1]\n"
     ]
    }
   ],
   "source": [
    "## Backward Pass\n",
    "yTest = y[0]\n",
    "xTest = activate(np.dot(yTest, w.T))\n",
    "print(f\"{xTest} {yTest}\")\n",
    "yTest = y[1]\n",
    "xTest = activate(np.dot(yTest, w.T))\n",
    "print(f\"Input(X): {xTest}  Output(Y): {yTest}\")"
   ]
  },
  {
   "cell_type": "code",
   "execution_count": null,
   "id": "0def69ef-268d-4e56-8625-d6f0af4c8483",
   "metadata": {},
   "outputs": [],
   "source": []
  }
 ],
 "metadata": {
  "kernelspec": {
   "display_name": "Python 3 (ipykernel)",
   "language": "python",
   "name": "python3"
  },
  "language_info": {
   "codemirror_mode": {
    "name": "ipython",
    "version": 3
   },
   "file_extension": ".py",
   "mimetype": "text/x-python",
   "name": "python",
   "nbconvert_exporter": "python",
   "pygments_lexer": "ipython3",
   "version": "3.12.1"
  }
 },
 "nbformat": 4,
 "nbformat_minor": 5
}
