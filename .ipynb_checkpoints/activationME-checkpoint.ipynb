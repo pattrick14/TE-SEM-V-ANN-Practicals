{
 "cells": [
  {
   "cell_type": "code",
   "execution_count": null,
   "id": "4151d020-0e8a-47e6-9170-4e1724adcdf1",
   "metadata": {},
   "outputs": [],
   "source": [
    "import numpy as np\n",
    "import matplotlib.pyplot as plt"
   ]
  },
  {
   "cell_type": "code",
   "execution_count": null,
   "id": "21b790c0-2628-4fdb-8b2e-86e583ca5f2e",
   "metadata": {},
   "outputs": [],
   "source": [
    "x = np.linspace(-10, 10, 100)\n",
    "plt.figure(figsize=(7, 7))\n",
    "plt.show()"
   ]
  },
  {
   "cell_type": "code",
   "execution_count": null,
   "id": "c7f3e057-2688-449a-8ebf-dad5ff741632",
   "metadata": {},
   "outputs": [],
   "source": [
    "# x = np.linspace(-5, 5, 100)\n",
    "def linear(x):\n",
    "    return x\n",
    "plt.plot(x, linear(x))\n",
    "plt.show()"
   ]
  },
  {
   "cell_type": "code",
   "execution_count": null,
   "id": "17a0d83e-dd1f-4a67-971f-5e9a74c6a055",
   "metadata": {},
   "outputs": [],
   "source": [
    "# x = np.linspace(-10, 10, 10)\n",
    "def relu(x):\n",
    "    return np.maximum(0, x)\n",
    "plt.plot(x, relu(x))\n",
    "plt.show()"
   ]
  },
  {
   "cell_type": "code",
   "execution_count": null,
   "id": "f0d63b80-67b2-404b-b474-708efe86b1b8",
   "metadata": {},
   "outputs": [],
   "source": [
    "def sigmoid(x):\n",
    "    return 1/(1+np.exp(-x))\n",
    "plt.plot(x, sigmoid(x))\n",
    "plt.show()"
   ]
  },
  {
   "cell_type": "code",
   "execution_count": null,
   "id": "cd567d74-0f04-492d-b434-17ad8932761f",
   "metadata": {},
   "outputs": [],
   "source": [
    "def tanh(x):\n",
    "    return (np.exp(x)-np.exp(-x))/(np.exp(x)+np.exp(-x))\n",
    "\n",
    "plt.plot(x, tanh(x))\n",
    "plt.show()"
   ]
  },
  {
   "cell_type": "code",
   "execution_count": null,
   "id": "35221bb5-b7d7-434c-ab18-50d293e5df03",
   "metadata": {},
   "outputs": [],
   "source": [
    "def softmax(x):\n",
    "    return np.exp(x)/(np.sum(np.exp(x), axis=0))\n",
    "\n",
    "plt.plot(x, softmax(x))\n",
    "plt.show()"
   ]
  },
  {
   "cell_type": "code",
   "execution_count": null,
   "id": "a4b803ef-6f81-4504-9f5b-e92af7aff6aa",
   "metadata": {},
   "outputs": [],
   "source": []
  }
 ],
 "metadata": {
  "kernelspec": {
   "display_name": "Python 3 (ipykernel)",
   "language": "python",
   "name": "python3"
  },
  "language_info": {
   "codemirror_mode": {
    "name": "ipython",
    "version": 3
   },
   "file_extension": ".py",
   "mimetype": "text/x-python",
   "name": "python",
   "nbconvert_exporter": "python",
   "pygments_lexer": "ipython3",
   "version": "3.12.1"
  }
 },
 "nbformat": 4,
 "nbformat_minor": 5
}
