{
 "cells": [
  {
   "cell_type": "code",
   "execution_count": null,
   "id": "04065582-d8ed-4734-ab65-aadf4fd10a71",
   "metadata": {},
   "outputs": [],
   "source": [
    "import numpy as np"
   ]
  },
  {
   "cell_type": "code",
   "execution_count": null,
   "id": "b8a2e344-8e54-4b01-bbcc-8d57484b32d2",
   "metadata": {},
   "outputs": [],
   "source": [
    "# Define the 4 vectors to be stored\n",
    "vectors = np.array([[1, 1, -1, -1],\n",
    "                    [-1, -1, 1, 1],\n",
    "                    [1, -1, 1, -1],\n",
    "                    [-1, 1, -1, 1]])"
   ]
  },
  {
   "cell_type": "code",
   "execution_count": null,
   "id": "71676202-21b6-4343-8e6d-55075146e92a",
   "metadata": {},
   "outputs": [],
   "source": [
    "# Calculate the weight matrix\n",
    "weights = np.zeros((4, 4))\n",
    "for i in range(4):\n",
    "    for j in range(4):\n",
    "        if i == j:\n",
    "            weights[i, j] = 0\n",
    "        else:\n",
    "            weights[i, j] = np.sum(vectors[i] * vectors[j])"
   ]
  },
  {
   "cell_type": "code",
   "execution_count": null,
   "id": "000256c0-ca3d-43c9-bc5e-dcf2403a12bb",
   "metadata": {},
   "outputs": [],
   "source": [
    "# Define the activation function (in this case, a sign function)\n",
    "def activation(x):\n",
    "    return np.where(x >= 0, 1, -1)\n"
   ]
  },
  {
   "cell_type": "code",
   "execution_count": null,
   "id": "cca9310b-b06e-4a8a-9afe-bab9cd7ffa8b",
   "metadata": {},
   "outputs": [],
   "source": [
    "# Define the Hopfield network function\n",
    "def hopfield(input_vector, weights):\n",
    "    output_vector = activation(np.dot(weights, input_vector))\n",
    "    return output_vector"
   ]
  },
  {
   "cell_type": "code",
   "execution_count": null,
   "id": "b285930c-9c42-4059-b999-5f344388e030",
   "metadata": {},
   "outputs": [],
   "source": [
    "# Test the Hopfield network with one of the stored vectors as input\n",
    "input_vector = vectors[2]\n",
    "output_vector = hopfield(input_vector, weights)\n",
    "print(\"Input vector:\")\n",
    "print(input_vector)\n",
    "print(\"Output vector:\")\n",
    "print(output_vector)"
   ]
  }
 ],
 "metadata": {
  "kernelspec": {
   "display_name": "Python 3 (ipykernel)",
   "language": "python",
   "name": "python3"
  },
  "language_info": {
   "codemirror_mode": {
    "name": "ipython",
    "version": 3
   },
   "file_extension": ".py",
   "mimetype": "text/x-python",
   "name": "python",
   "nbconvert_exporter": "python",
   "pygments_lexer": "ipython3",
   "version": "3.12.1"
  }
 },
 "nbformat": 4,
 "nbformat_minor": 5
}
