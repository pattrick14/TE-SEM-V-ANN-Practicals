{
 "cells": [
  {
   "cell_type": "code",
   "execution_count": null,
   "id": "686573e2-5851-450a-9c7a-56f8af97b4a3",
   "metadata": {},
   "outputs": [],
   "source": [
    "import tensorflow as tf\n",
    "from tensorflow.keras import datasets, layers, models\n",
    "import matplotlib.pyplot as plt\n",
    "import numpy as np"
   ]
  },
  {
   "cell_type": "code",
   "execution_count": null,
   "id": "0ca1b487-cfd7-4855-89f3-13386206fc55",
   "metadata": {},
   "outputs": [],
   "source": [
    "## Load the dataset\n",
    "(x_train, y_train), (x_test, y_test) = datasets.cifar10.load_data()\n",
    "x_train.shape"
   ]
  },
  {
   "cell_type": "code",
   "execution_count": null,
   "id": "4fc43112-1a44-45d2-9704-3eed035618ae",
   "metadata": {},
   "outputs": [],
   "source": [
    "print(x_test.shape)\n",
    "print(y_train.shape)"
   ]
  },
  {
   "cell_type": "code",
   "execution_count": null,
   "id": "64adb5f8-44e3-4524-9777-8af821943eff",
   "metadata": {},
   "outputs": [],
   "source": [
    "## Converting 2_D array into 1_D array\n",
    "y_train = y_train.reshape(-1,)\n",
    "y_test = y_test.reshape(-1,)"
   ]
  },
  {
   "cell_type": "code",
   "execution_count": null,
   "id": "0185e221-e583-4358-be6b-90d19dd9689f",
   "metadata": {},
   "outputs": [],
   "source": [
    "classes = ['airplanes', 'cars', 'birds', 'cats', 'deer', 'dogs', 'frogs', 'horses', 'ships', 'trucks']"
   ]
  },
  {
   "cell_type": "code",
   "execution_count": null,
   "id": "886fd5ca-a384-4c54-9207-3de5590a42be",
   "metadata": {},
   "outputs": [],
   "source": [
    "def plot(x, y, index):\n",
    "    plt.figure(figsize=(10, 5))\n",
    "    plt.imshow(x[index])\n",
    "    plt.xlabel(classes[y[index]])"
   ]
  },
  {
   "cell_type": "code",
   "execution_count": null,
   "id": "73831f00-5341-4272-a00f-42e7ff83312f",
   "metadata": {},
   "outputs": [],
   "source": [
    "plot(x_train, y_train, 2)"
   ]
  },
  {
   "cell_type": "code",
   "execution_count": null,
   "id": "40df557e-d1d7-4511-a5a8-9157aaef2fb9",
   "metadata": {},
   "outputs": [],
   "source": [
    "## Normalizing\n",
    "x_train = x_train/255\n",
    "x_test = x_test/255"
   ]
  },
  {
   "cell_type": "code",
   "execution_count": null,
   "id": "1f71d575-e2f4-415b-8976-3e5fc55f16fe",
   "metadata": {},
   "outputs": [],
   "source": [
    "## Build Neural Network\n",
    "ann = models.Sequential([\n",
    "    layers.Flatten(input_shape = (32, 32, 3)),\n",
    "    layers.Dense(100, activation='relu'),\n",
    "    layers.Dense(100, activation='relu'),\n",
    "    layers.Dense(10, activation='softmax')\n",
    "])"
   ]
  },
  {
   "cell_type": "code",
   "execution_count": null,
   "id": "9b45da97-4a74-4446-a6d0-dd7173fc3554",
   "metadata": {},
   "outputs": [],
   "source": [
    "ann.summary()"
   ]
  },
  {
   "cell_type": "code",
   "execution_count": null,
   "id": "fa389258-ad9a-4b09-8480-61dd96bbb0d0",
   "metadata": {},
   "outputs": [],
   "source": [
    "ann.compile(optimizer='SGD',\n",
    "           loss = 'sparse_categorical_crossentropy',\n",
    "           metrics=['accuracy'])"
   ]
  },
  {
   "cell_type": "code",
   "execution_count": null,
   "id": "493afc2c-673b-4876-8117-d707fa768ded",
   "metadata": {},
   "outputs": [],
   "source": [
    "ann.fit(x_train, y_train, epochs=5)"
   ]
  },
  {
   "cell_type": "code",
   "execution_count": null,
   "id": "fb348678-a9a3-492c-b018-40a16d0eb45d",
   "metadata": {},
   "outputs": [],
   "source": [
    "from sklearn.metrics import confusion_matrix , classification_report\n",
    "print(\"Classification Report: \\n\", classification_report(y_test, y_pred_classes))"
   ]
  },
  {
   "cell_type": "code",
   "execution_count": null,
   "id": "fed72b98-45a6-4a90-9040-a3368fcd1497",
   "metadata": {},
   "outputs": [],
   "source": [
    "y_pred = ann.predict(x_test)\n",
    "y_pred_classes = [np.argmax(element) for element in y_pred]"
   ]
  },
  {
   "cell_type": "code",
   "execution_count": null,
   "id": "a0dd4ae1-a800-48b2-8052-de2108c02c76",
   "metadata": {},
   "outputs": [],
   "source": [
    "for i in range(5):\n",
    "    idx=np.random.randint(0, len(y_pred))\n",
    "    plot(x_test,y_pred_classes,idx)"
   ]
  },
  {
   "cell_type": "code",
   "execution_count": null,
   "id": "12f88307-7363-45c6-82d6-c2bf75623514",
   "metadata": {},
   "outputs": [],
   "source": []
  }
 ],
 "metadata": {
  "kernelspec": {
   "display_name": "Python 3 (ipykernel)",
   "language": "python",
   "name": "python3"
  },
  "language_info": {
   "codemirror_mode": {
    "name": "ipython",
    "version": 3
   },
   "file_extension": ".py",
   "mimetype": "text/x-python",
   "name": "python",
   "nbconvert_exporter": "python",
   "pygments_lexer": "ipython3",
   "version": "3.12.1"
  }
 },
 "nbformat": 4,
 "nbformat_minor": 5
}
